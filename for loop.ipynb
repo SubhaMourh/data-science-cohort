{
 "cells": [
  {
   "cell_type": "code",
   "execution_count": 1,
   "id": "54537b96",
   "metadata": {},
   "outputs": [
    {
     "name": "stdout",
     "output_type": "stream",
     "text": [
      "S\n",
      "R\n",
      "S\n",
      "P\n",
      " \n",
      "D\n",
      "i\n",
      "g\n",
      "i\n",
      " \n",
      "T\n",
      "e\n",
      "c\n",
      "h\n"
     ]
    }
   ],
   "source": [
    "for letter in \"SRSP Digi Tech\":\n",
    "    print(letter)"
   ]
  },
  {
   "cell_type": "code",
   "execution_count": 3,
   "id": "9db793ca",
   "metadata": {},
   "outputs": [
    {
     "name": "stdout",
     "output_type": "stream",
     "text": [
      "a\n",
      "b\n",
      "c\n",
      "d\n",
      "e\n"
     ]
    }
   ],
   "source": [
    "friends = [\"a\", \"b\", \"c\", \"d\", \"e\"]\n",
    "\n",
    "for friend in friends:\n",
    "    print(friend)"
   ]
  },
  {
   "cell_type": "code",
   "execution_count": 5,
   "id": "d85d5f25",
   "metadata": {},
   "outputs": [
    {
     "name": "stdout",
     "output_type": "stream",
     "text": [
      "0\n",
      "1\n",
      "2\n",
      "3\n",
      "4\n",
      "5\n",
      "6\n",
      "7\n",
      "8\n",
      "9\n",
      "10\n"
     ]
    }
   ],
   "source": [
    "friends = [\"a\", \"b\", \"c\", \"d\", \"e\"]\n",
    "\n",
    "for index in range(11):\n",
    "    print(index)"
   ]
  },
  {
   "cell_type": "code",
   "execution_count": 6,
   "id": "9ed38f91",
   "metadata": {},
   "outputs": [
    {
     "name": "stdout",
     "output_type": "stream",
     "text": [
      "6\n",
      "7\n",
      "8\n",
      "9\n",
      "10\n"
     ]
    }
   ],
   "source": [
    "friends = [\"a\", \"b\", \"c\", \"d\", \"e\"]\n",
    "\n",
    "for index in range(6, 11):\n",
    "    print(index)"
   ]
  },
  {
   "cell_type": "code",
   "execution_count": 8,
   "id": "1b238306",
   "metadata": {},
   "outputs": [
    {
     "name": "stdout",
     "output_type": "stream",
     "text": [
      "['a', 'b', 'c', 'd', 'e']\n",
      "['a', 'b', 'c', 'd', 'e']\n",
      "['a', 'b', 'c', 'd', 'e']\n",
      "['a', 'b', 'c', 'd', 'e']\n",
      "['a', 'b', 'c', 'd', 'e']\n"
     ]
    }
   ],
   "source": [
    "friends = [\"a\", \"b\", \"c\", \"d\", \"e\"]\n",
    "\n",
    "for index in range(len(friends)):\n",
    "    print(friends)"
   ]
  },
  {
   "cell_type": "code",
   "execution_count": 9,
   "id": "db493417",
   "metadata": {},
   "outputs": [
    {
     "name": "stdout",
     "output_type": "stream",
     "text": [
      "e\n",
      "e\n",
      "e\n",
      "e\n",
      "e\n"
     ]
    }
   ],
   "source": [
    "friends = [\"a\", \"b\", \"c\", \"d\", \"e\"]\n",
    "\n",
    "for index in range(len(friends)):\n",
    "    print(friend)"
   ]
  },
  {
   "cell_type": "code",
   "execution_count": 10,
   "id": "514d1181",
   "metadata": {},
   "outputs": [
    {
     "name": "stdout",
     "output_type": "stream",
     "text": [
      "a\n",
      "b\n",
      "c\n",
      "d\n",
      "e\n"
     ]
    }
   ],
   "source": [
    "friends = [\"a\", \"b\", \"c\", \"d\", \"e\"]\n",
    "\n",
    "for index in range(len(friends)):\n",
    "    print(friends[index])"
   ]
  },
  {
   "cell_type": "code",
   "execution_count": 12,
   "id": "4f311675",
   "metadata": {},
   "outputs": [
    {
     "name": "stdout",
     "output_type": "stream",
     "text": [
      "i love myself then you\n",
      "I love you\n",
      "i love myself then you\n"
     ]
    }
   ],
   "source": [
    "friends = [\"a\", \"b\", \"c\", \"d\", \"e\"]\n",
    "\n",
    "for index in range(3):\n",
    "    if index ==1:\n",
    "        print(\"I love you\")\n",
    "    else:\n",
    "        print(\"i love myself then you\")"
   ]
  },
  {
   "cell_type": "code",
   "execution_count": null,
   "id": "3a8796c2",
   "metadata": {},
   "outputs": [],
   "source": []
  }
 ],
 "metadata": {
  "kernelspec": {
   "display_name": "Python 3 (ipykernel)",
   "language": "python",
   "name": "python3"
  },
  "language_info": {
   "codemirror_mode": {
    "name": "ipython",
    "version": 3
   },
   "file_extension": ".py",
   "mimetype": "text/x-python",
   "name": "python",
   "nbconvert_exporter": "python",
   "pygments_lexer": "ipython3",
   "version": "3.9.7"
  }
 },
 "nbformat": 4,
 "nbformat_minor": 5
}
