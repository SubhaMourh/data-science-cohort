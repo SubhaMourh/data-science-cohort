{
 "cells": [
  {
   "cell_type": "markdown",
   "id": "93e82e88",
   "metadata": {},
   "source": []
  },
  {
   "cell_type": "code",
   "execution_count": 2,
   "id": "7d04030a",
   "metadata": {},
   "outputs": [
    {
     "name": "stdout",
     "output_type": "stream",
     "text": [
      "january\n"
     ]
    }
   ],
   "source": [
    "monthconvertion = {\n",
    "    \"jan\" :\"january\",\n",
    "    \"feb\" : \"february\",\n",
    "    \"mac\" : \"march\"\n",
    "}\n",
    "\n",
    "\n",
    "\n",
    "print(monthconvertion[\"jan\"])"
   ]
  },
  {
   "cell_type": "code",
   "execution_count": 6,
   "id": "bfadaa8f",
   "metadata": {},
   "outputs": [
    {
     "name": "stdout",
     "output_type": "stream",
     "text": [
      "march\n"
     ]
    }
   ],
   "source": [
    "monthconvertion = {\n",
    "    \"jan\" :\"january\",\n",
    "    \"feb\" : \"february\",\n",
    "    \"mac\" : \"march\"\n",
    "}\n",
    "\n",
    "\n",
    "\n",
    "print(monthconvertion.get(\"mac\"))"
   ]
  },
  {
   "cell_type": "code",
   "execution_count": 7,
   "id": "a6c3c6a5",
   "metadata": {},
   "outputs": [
    {
     "name": "stdout",
     "output_type": "stream",
     "text": [
      "None\n"
     ]
    }
   ],
   "source": [
    "monthconvertion = {\n",
    "    \"jan\" :\"january\",\n",
    "    \"feb\" : \"february\",\n",
    "    \"mac\" : \"march\"\n",
    "}\n",
    "\n",
    "\n",
    "\n",
    "print(monthconvertion.get(\"kuk\"))"
   ]
  },
  {
   "cell_type": "code",
   "execution_count": 8,
   "id": "81f78ab6",
   "metadata": {},
   "outputs": [
    {
     "name": "stdout",
     "output_type": "stream",
     "text": [
      "not a valid key\n"
     ]
    }
   ],
   "source": [
    "monthconvertion = {\n",
    "    \"jan\" :\"january\",\n",
    "    \"feb\" : \"february\",\n",
    "    \"mac\" : \"march\"\n",
    "}\n",
    "\n",
    "\n",
    "\n",
    "print(monthconvertion.get(\"kuk\", \"not a valid key\"))"
   ]
  },
  {
   "cell_type": "code",
   "execution_count": null,
   "id": "ab330cc4",
   "metadata": {},
   "outputs": [],
   "source": []
  }
 ],
 "metadata": {
  "kernelspec": {
   "display_name": "Python 3 (ipykernel)",
   "language": "python",
   "name": "python3"
  },
  "language_info": {
   "codemirror_mode": {
    "name": "ipython",
    "version": 3
   },
   "file_extension": ".py",
   "mimetype": "text/x-python",
   "name": "python",
   "nbconvert_exporter": "python",
   "pygments_lexer": "ipython3",
   "version": "3.9.7"
  }
 },
 "nbformat": 4,
 "nbformat_minor": 5
}
