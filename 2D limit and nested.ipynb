{
 "cells": [
  {
   "cell_type": "code",
   "execution_count": 1,
   "id": "b490fec9",
   "metadata": {},
   "outputs": [
    {
     "name": "stdout",
     "output_type": "stream",
     "text": [
      "9\n"
     ]
    }
   ],
   "source": [
    "number_grid=[[1,2,3], [4,5,6],[8,9,6], [9]]\n",
    "\n",
    "print(number_grid[3][0])"
   ]
  },
  {
   "cell_type": "code",
   "execution_count": 2,
   "id": "5572f9eb",
   "metadata": {},
   "outputs": [
    {
     "name": "stdout",
     "output_type": "stream",
     "text": [
      "9\n",
      "[1, 2, 3]\n",
      "[4, 5, 6]\n",
      "[8, 9, 6]\n",
      "[9]\n"
     ]
    }
   ],
   "source": [
    "number_grid=[[1,2,3], [4,5,6],[8,9,6], [9]]\n",
    "\n",
    "print(number_grid[3][0])\n",
    "\n",
    "for row in number_grid:\n",
    "    print(row)"
   ]
  },
  {
   "cell_type": "code",
   "execution_count": 3,
   "id": "086253af",
   "metadata": {},
   "outputs": [
    {
     "name": "stdout",
     "output_type": "stream",
     "text": [
      "9\n",
      "1\n",
      "2\n",
      "3\n",
      "4\n",
      "5\n",
      "6\n",
      "8\n",
      "9\n",
      "6\n",
      "9\n"
     ]
    }
   ],
   "source": [
    "number_grid=[[1,2,3], [4,5,6],[8,9,6], [9]]\n",
    "\n",
    "print(number_grid[3][0])\n",
    "\n",
    "for row in number_grid:\n",
    "    for col in row:\n",
    "        print(col)"
   ]
  },
  {
   "cell_type": "code",
   "execution_count": null,
   "id": "897c9b4a",
   "metadata": {},
   "outputs": [],
   "source": []
  }
 ],
 "metadata": {
  "kernelspec": {
   "display_name": "Python 3 (ipykernel)",
   "language": "python",
   "name": "python3"
  },
  "language_info": {
   "codemirror_mode": {
    "name": "ipython",
    "version": 3
   },
   "file_extension": ".py",
   "mimetype": "text/x-python",
   "name": "python",
   "nbconvert_exporter": "python",
   "pygments_lexer": "ipython3",
   "version": "3.9.7"
  }
 },
 "nbformat": 4,
 "nbformat_minor": 5
}
