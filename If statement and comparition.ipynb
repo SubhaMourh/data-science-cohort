{
 "cells": [
  {
   "cell_type": "code",
   "execution_count": 13,
   "id": "f0a5263f",
   "metadata": {},
   "outputs": [
    {
     "name": "stdout",
     "output_type": "stream",
     "text": [
      "67\n"
     ]
    }
   ],
   "source": [
    "def max_num (num1,num2,num3):\n",
    "    if num1>num2 and num1>3:\n",
    "        return num1\n",
    "    elif num2>num1 and num2>num3:\n",
    "        return num2\n",
    "    elif num1 == num2 and num1>num3:\n",
    "        return num1,num2\n",
    "    elif num2==num3 and num2>num1:\n",
    "        return num2, num3\n",
    "    elif num1==num3 and num3>num2:\n",
    "        return num1, num3\n",
    "    else:\n",
    "        return num3\n",
    "print(max_num(3,67,9))\n"
   ]
  },
  {
   "cell_type": "code",
   "execution_count": 16,
   "id": "7a5ae88c",
   "metadata": {},
   "outputs": [
    {
     "name": "stdout",
     "output_type": "stream",
     "text": [
      "(67, 67)\n"
     ]
    }
   ],
   "source": [
    "def max_num (num1,num2,num3):\n",
    "    if num1>num2 and num1>3:\n",
    "        return num1\n",
    "    elif num2>num1 and num2>num3:\n",
    "        return num2\n",
    "    elif num1 == num2 and num1>num3:\n",
    "        return num1,num2\n",
    "    elif num2==num3 and num2>num1:\n",
    "        return num2, num3\n",
    "    elif num1==num3 and num3>num2:\n",
    "        return num1, num3\n",
    "    else:\n",
    "        return num3\n",
    "print(max_num(3,67,67))\n"
   ]
  },
  {
   "cell_type": "code",
   "execution_count": 14,
   "id": "1715d1be",
   "metadata": {},
   "outputs": [
    {
     "name": "stdout",
     "output_type": "stream",
     "text": [
      "9\n"
     ]
    }
   ],
   "source": [
    "def max_num (num1,num2,num3):\n",
    "    if num1>num2 and num1>3:\n",
    "        return num1\n",
    "    elif num2>num1 and num2>num3:\n",
    "        return num2\n",
    "  \n",
    "    else:\n",
    "        return num3\n",
    "print(max_num(3,6,9))"
   ]
  },
  {
   "cell_type": "code",
   "execution_count": null,
   "id": "e2bbe76c",
   "metadata": {},
   "outputs": [],
   "source": []
  }
 ],
 "metadata": {
  "kernelspec": {
   "display_name": "Python 3 (ipykernel)",
   "language": "python",
   "name": "python3"
  },
  "language_info": {
   "codemirror_mode": {
    "name": "ipython",
    "version": 3
   },
   "file_extension": ".py",
   "mimetype": "text/x-python",
   "name": "python",
   "nbconvert_exporter": "python",
   "pygments_lexer": "ipython3",
   "version": "3.9.7"
  }
 },
 "nbformat": 4,
 "nbformat_minor": 5
}
