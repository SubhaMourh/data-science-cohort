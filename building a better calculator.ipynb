{
 "cells": [
  {
   "cell_type": "code",
   "execution_count": 2,
   "id": "53451ff4",
   "metadata": {},
   "outputs": [
    {
     "name": "stdout",
     "output_type": "stream",
     "text": [
      "enter a frist num:2\n",
      "enter a second num:3\n",
      "enter operator:  /\n",
      "0.6666666666666666\n"
     ]
    }
   ],
   "source": [
    "num1= float(input(\"enter a frist num:\"))\n",
    "num2 = float(input(\"enter a second num:\"))\n",
    "op = input(\"enter operator:  \")\n",
    "\n",
    "if op==\"+\":\n",
    "    print(num1+num2)\n",
    "elif op==\"-\":\n",
    "    print(num1-num2)\n",
    "elif op==\"*\":\n",
    "    print(num1*num2)\n",
    "elif op==\"/\":\n",
    "    print(num1/num2)\n",
    "else:\n",
    "    print(\"invalid operator\")"
   ]
  },
  {
   "cell_type": "code",
   "execution_count": 3,
   "id": "8eb7ea71",
   "metadata": {},
   "outputs": [
    {
     "name": "stdout",
     "output_type": "stream",
     "text": [
      "enter a frist num:56\n",
      "enter a second num:87\n",
      "enter operator:  +\n",
      "143.0\n"
     ]
    }
   ],
   "source": [
    "num1= float(input(\"enter a frist num:\"))\n",
    "num2 = float(input(\"enter a second num:\"))\n",
    "op = input(\"enter operator:  \")\n",
    "\n",
    "if op==\"+\":\n",
    "    print(num1+num2)\n",
    "elif op==\"-\":\n",
    "    print(num1-num2)\n",
    "elif op==\"*\":\n",
    "    print(num1*num2)\n",
    "elif op==\"/\":\n",
    "    print(num1/num2)\n",
    "else:\n",
    "    print(\"invalid operator\")"
   ]
  },
  {
   "cell_type": "code",
   "execution_count": 4,
   "id": "8d5b52fb",
   "metadata": {},
   "outputs": [
    {
     "name": "stdout",
     "output_type": "stream",
     "text": [
      "enter a frist num:434\n",
      "enter a second num:4\n",
      "enter operator:  -\n",
      "430.0\n"
     ]
    }
   ],
   "source": [
    "num1= float(input(\"enter a frist num:\"))\n",
    "num2 = float(input(\"enter a second num:\"))\n",
    "op = input(\"enter operator:  \")\n",
    "\n",
    "if op==\"+\":\n",
    "    print(num1+num2)\n",
    "elif op==\"-\":\n",
    "    print(num1-num2)\n",
    "elif op==\"*\":\n",
    "    print(num1*num2)\n",
    "elif op==\"/\":\n",
    "    print(num1/num2)\n",
    "else:\n",
    "    print(\"invalid operator\")"
   ]
  },
  {
   "cell_type": "code",
   "execution_count": 5,
   "id": "a2e31839",
   "metadata": {},
   "outputs": [
    {
     "name": "stdout",
     "output_type": "stream",
     "text": [
      "enter a frist num:565\n",
      "enter a second num:97\n",
      "enter operator:  ()\n",
      "invalid operator\n"
     ]
    }
   ],
   "source": [
    "num1= float(input(\"enter a frist num:\"))\n",
    "num2 = float(input(\"enter a second num:\"))\n",
    "op = input(\"enter operator:  \")\n",
    "\n",
    "if op==\"+\":\n",
    "    print(num1+num2)\n",
    "elif op==\"-\":\n",
    "    print(num1-num2)\n",
    "elif op==\"*\":\n",
    "    print(num1*num2)\n",
    "elif op==\"/\":\n",
    "    print(num1/num2)\n",
    "else:\n",
    "    print(\"invalid operator\")"
   ]
  },
  {
   "cell_type": "code",
   "execution_count": null,
   "id": "70278cb9",
   "metadata": {},
   "outputs": [],
   "source": []
  }
 ],
 "metadata": {
  "kernelspec": {
   "display_name": "Python 3 (ipykernel)",
   "language": "python",
   "name": "python3"
  },
  "language_info": {
   "codemirror_mode": {
    "name": "ipython",
    "version": 3
   },
   "file_extension": ".py",
   "mimetype": "text/x-python",
   "name": "python",
   "nbconvert_exporter": "python",
   "pygments_lexer": "ipython3",
   "version": "3.9.7"
  }
 },
 "nbformat": 4,
 "nbformat_minor": 5
}
