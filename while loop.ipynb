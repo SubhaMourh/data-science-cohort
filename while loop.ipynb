{
 "cells": [
  {
   "cell_type": "code",
   "execution_count": 1,
   "id": "8f4b90ba",
   "metadata": {},
   "outputs": [
    {
     "name": "stdout",
     "output_type": "stream",
     "text": [
      " I love my INDIA\n",
      " I love my INDIA\n",
      " I love my INDIA\n",
      " I love my INDIA\n",
      " I love my INDIA\n",
      " I love my INDIA\n",
      " I love my INDIA\n",
      " I love my INDIA\n",
      " I love my INDIA\n",
      " I love my INDIA\n",
      "I also love myself\n"
     ]
    }
   ],
   "source": [
    "i = 1\n",
    "while i<=10:\n",
    "    print(\" I love my INDIA\")\n",
    "    i+=1\n",
    "print(\"I also love myself\")"
   ]
  },
  {
   "cell_type": "code",
   "execution_count": 1,
   "id": "016c33f8",
   "metadata": {},
   "outputs": [
    {
     "name": "stdout",
     "output_type": "stream",
     "text": [
      " I love my INDIA\n",
      " I love my INDIA\n",
      " I love my INDIA\n",
      " I love my INDIA\n",
      " I love my INDIA\n",
      " I love my INDIA\n",
      " I love my INDIA\n",
      " I love my INDIA\n",
      " I love my INDIA\n",
      " I love my INDIA\n",
      "I also love myself\n"
     ]
    }
   ],
   "source": [
    "i = 1\n",
    "while i<=10:\n",
    "    print(\" I love my INDIA\")\n",
    "    i+=1\n",
    "print(\"I also love myself\")"
   ]
  },
  {
   "cell_type": "code",
   "execution_count": null,
   "id": "eff6ec8c",
   "metadata": {},
   "outputs": [],
   "source": []
  },
  {
   "cell_type": "code",
   "execution_count": null,
   "id": "f185adfa",
   "metadata": {},
   "outputs": [],
   "source": []
  }
 ],
 "metadata": {
  "kernelspec": {
   "display_name": "Python 3 (ipykernel)",
   "language": "python",
   "name": "python3"
  },
  "language_info": {
   "codemirror_mode": {
    "name": "ipython",
    "version": 3
   },
   "file_extension": ".py",
   "mimetype": "text/x-python",
   "name": "python",
   "nbconvert_exporter": "python",
   "pygments_lexer": "ipython3",
   "version": "3.9.7"
  }
 },
 "nbformat": 4,
 "nbformat_minor": 5
}
