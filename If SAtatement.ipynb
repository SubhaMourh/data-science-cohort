{
 "cells": [
  {
   "cell_type": "code",
   "execution_count": 3,
   "id": "e5d81946",
   "metadata": {},
   "outputs": [
    {
     "name": "stdout",
     "output_type": "stream",
     "text": [
      "You are a Male\n"
     ]
    }
   ],
   "source": [
    "is_male = True\n",
    "\n",
    "if is_male:\n",
    "    print(\"You are a Male\")"
   ]
  },
  {
   "cell_type": "code",
   "execution_count": 1,
   "id": "01eea084",
   "metadata": {},
   "outputs": [],
   "source": [
    "is_male = False\n",
    "\n",
    "if is_male:\n",
    "    print(\"You are a Male\")"
   ]
  },
  {
   "cell_type": "code",
   "execution_count": 4,
   "id": "96a92c5f",
   "metadata": {},
   "outputs": [
    {
     "name": "stdout",
     "output_type": "stream",
     "text": [
      "You are a Male\n"
     ]
    }
   ],
   "source": [
    "is_male = True\n",
    "\n",
    "if is_male:\n",
    "    print(\"You are a Male\")\n",
    "else:\n",
    "    print(\"you are not a man\")"
   ]
  },
  {
   "cell_type": "code",
   "execution_count": 7,
   "id": "64c53fc6",
   "metadata": {},
   "outputs": [
    {
     "name": "stdout",
     "output_type": "stream",
     "text": [
      "You are a Male or tall or both\n"
     ]
    }
   ],
   "source": [
    "is_male = True\n",
    "is_tall = True\n",
    "\n",
    "if is_male or is_tall:\n",
    "    print(\"You are a Male or tall or both\")\n",
    "else:\n",
    "    print(\"you are nither a man nor tall\")"
   ]
  },
  {
   "cell_type": "code",
   "execution_count": 8,
   "id": "822e02d0",
   "metadata": {},
   "outputs": [
    {
     "name": "stdout",
     "output_type": "stream",
     "text": [
      "You are a Male or tall or both\n"
     ]
    }
   ],
   "source": [
    "is_male = False\n",
    "is_tall = True\n",
    "\n",
    "if is_male or is_tall:\n",
    "    print(\"You are a Male or tall or both\")\n",
    "else:\n",
    "    print(\"you are nither a man nor tall\")"
   ]
  },
  {
   "cell_type": "code",
   "execution_count": 9,
   "id": "fbe51598",
   "metadata": {},
   "outputs": [
    {
     "name": "stdout",
     "output_type": "stream",
     "text": [
      "you are nither a man nor tall\n"
     ]
    }
   ],
   "source": [
    "is_male = False\n",
    "is_tall = False\n",
    "if is_male or is_tall:\n",
    "    print(\"You are a Male or tall or both\")\n",
    "else:\n",
    "    print(\"you are nither a man nor tall\")"
   ]
  },
  {
   "cell_type": "code",
   "execution_count": 12,
   "id": "778c81f7",
   "metadata": {},
   "outputs": [
    {
     "name": "stdout",
     "output_type": "stream",
     "text": [
      "you are either not male nor tall or both\n"
     ]
    }
   ],
   "source": [
    "is_male = False\n",
    "is_tall = True\n",
    "\n",
    "if is_male and is_tall:\n",
    "    print(\"You are a tall Male \")\n",
    "else:\n",
    "    print(\"you are either not male nor tall or both\")"
   ]
  },
  {
   "cell_type": "code",
   "execution_count": 13,
   "id": "1199d9fd",
   "metadata": {},
   "outputs": [
    {
     "name": "stdout",
     "output_type": "stream",
     "text": [
      "you are either not male nor tall or both\n"
     ]
    }
   ],
   "source": [
    "is_male = False\n",
    "is_tall = False\n",
    "\n",
    "if is_male and is_tall:\n",
    "    print(\"You are a tall Male \")\n",
    "else:\n",
    "    print(\"you are either not male nor tall or both\")"
   ]
  },
  {
   "cell_type": "code",
   "execution_count": 14,
   "id": "3bfa2b20",
   "metadata": {},
   "outputs": [
    {
     "name": "stdout",
     "output_type": "stream",
     "text": [
      "You are a tall Male \n"
     ]
    }
   ],
   "source": [
    "is_male = True\n",
    "is_tall = True\n",
    "\n",
    "if is_male and is_tall:\n",
    "    print(\"You are a tall Male \")\n",
    "else:\n",
    "    print(\"you are either not male nor tall or both\")"
   ]
  },
  {
   "cell_type": "code",
   "execution_count": 16,
   "id": "ca02fca6",
   "metadata": {},
   "outputs": [
    {
     "name": "stdout",
     "output_type": "stream",
     "text": [
      "You are a tall Male \n"
     ]
    }
   ],
   "source": [
    "is_male =True\n",
    "is_tall = True\n",
    "\n",
    "if is_male and is_tall:\n",
    "    print(\"You are a tall Male \")\n",
    "elif is_male and not(is_tall):\n",
    "    print(\"You Are a short man\")\n",
    "elif not(is_male) and is_tall:\n",
    "    print(\"You are a tall women or other\")\n",
    "else:\n",
    "    print(\"you are either not male nor tall or both\")"
   ]
  },
  {
   "cell_type": "code",
   "execution_count": 17,
   "id": "fc4d7df8",
   "metadata": {},
   "outputs": [
    {
     "name": "stdout",
     "output_type": "stream",
     "text": [
      "You are a tall women or other\n"
     ]
    }
   ],
   "source": [
    "is_male = False\n",
    "is_tall = True\n",
    "\n",
    "if is_male and is_tall:\n",
    "    print(\"You are a tall Male \")\n",
    "elif is_male and not(is_tall):\n",
    "    print(\"You Are a short man\")\n",
    "elif not(is_male) and is_tall:\n",
    "    print(\"You are a tall women or other\")\n",
    "else:\n",
    "    print(\"you are either not male nor tall or both\")"
   ]
  },
  {
   "cell_type": "code",
   "execution_count": 18,
   "id": "5ec06530",
   "metadata": {},
   "outputs": [
    {
     "name": "stdout",
     "output_type": "stream",
     "text": [
      "You Are a short man\n"
     ]
    }
   ],
   "source": [
    "is_male = True\n",
    "is_tall = False\n",
    "\n",
    "if is_male and is_tall:\n",
    "    print(\"You are a tall Male \")\n",
    "elif is_male and not(is_tall):\n",
    "    print(\"You Are a short man\")\n",
    "elif not(is_male) and is_tall:\n",
    "    print(\"You are a tall women or other\")\n",
    "else:\n",
    "    print(\"you are either not male nor tall or both\")"
   ]
  },
  {
   "cell_type": "code",
   "execution_count": 19,
   "id": "75551e0a",
   "metadata": {},
   "outputs": [
    {
     "name": "stdout",
     "output_type": "stream",
     "text": [
      "you are either not male nor tall or both\n"
     ]
    }
   ],
   "source": [
    "is_male = False\n",
    "is_tall = False\n",
    "\n",
    "if is_male and is_tall:\n",
    "    print(\"You are a tall Male \")\n",
    "elif is_male and not(is_tall):\n",
    "    print(\"You Are a short man\")\n",
    "elif not(is_male) and is_tall:\n",
    "    print(\"You are a tall women or other\")\n",
    "else:\n",
    "    print(\"you are either not male nor tall or both\")"
   ]
  },
  {
   "cell_type": "code",
   "execution_count": null,
   "id": "bc4025fa",
   "metadata": {},
   "outputs": [],
   "source": []
  }
 ],
 "metadata": {
  "kernelspec": {
   "display_name": "Python 3 (ipykernel)",
   "language": "python",
   "name": "python3"
  },
  "language_info": {
   "codemirror_mode": {
    "name": "ipython",
    "version": 3
   },
   "file_extension": ".py",
   "mimetype": "text/x-python",
   "name": "python",
   "nbconvert_exporter": "python",
   "pygments_lexer": "ipython3",
   "version": "3.9.7"
  }
 },
 "nbformat": 4,
 "nbformat_minor": 5
}
