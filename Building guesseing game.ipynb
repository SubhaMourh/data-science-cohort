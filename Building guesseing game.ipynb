{
 "cells": [
  {
   "cell_type": "code",
   "execution_count": 1,
   "id": "a6bc8976",
   "metadata": {},
   "outputs": [
    {
     "name": "stdout",
     "output_type": "stream",
     "text": [
      "enter my grilfriend name:suchitra\n",
      "enter my grilfriend name:somgita\n",
      "enter my grilfriend name:samridhi\n",
      "enter my grilfriend name:puja\n",
      "enter my grilfriend name:Puja\n",
      "kaise kagi mara majak\n"
     ]
    }
   ],
   "source": [
    "secret_word = \"Puja\"\n",
    "guess =\"\"\n",
    "while guess != secret_word:\n",
    "    guess = input(\"enter my grilfriend name:\")\n",
    "print(\"kaise kagi mara majak\")"
   ]
  },
  {
   "cell_type": "code",
   "execution_count": 11,
   "id": "b142fed8",
   "metadata": {},
   "outputs": [
    {
     "name": "stdout",
     "output_type": "stream",
     "text": [
      "enter my grilfriend name:s\n",
      "enter my grilfriend name:u\n",
      "enter my grilfriend name:y\n",
      "enter my grilfriend name:p\n",
      "enter my grilfriend name:puja\n",
      "kaise kagi mara majak\n"
     ]
    }
   ],
   "source": [
    "secret_word = \"puja\"\n",
    "guess =\"\"\n",
    "guess_count = 0\n",
    "guess_limit = 5\n",
    "out_of_guesses = False\n",
    "while guess != secret_word and not(out_of_guesses):\n",
    "    if guess_count< guess_limit:\n",
    "        guess = input(\"enter my grilfriend name:\")\n",
    "        guess_count =1\n",
    "    else:\n",
    "        out_of_guesses = True\n",
    "        \n",
    "if out_of_guesses:\n",
    "    print(\"out of guesses. You Lose!\")\n",
    "else:\n",
    "    print(\"kaise kagi mara majak\")\n"
   ]
  },
  {
   "cell_type": "code",
   "execution_count": 2,
   "id": "4c8b8abc",
   "metadata": {},
   "outputs": [
    {
     "name": "stdout",
     "output_type": "stream",
     "text": [
      "enter my grilfriend name:s\n",
      "enter my grilfriend name:d\n",
      "enter my grilfriend name:f\n",
      "enter my grilfriend name:g\n",
      "enter my grilfriend name:h\n",
      "out of guesses. You Lose!\n"
     ]
    }
   ],
   "source": [
    "secret_word = \"puja\"\n",
    "guess =\"\"\n",
    "\n",
    "guess_count = 0\n",
    "guess_limit = 5\n",
    "out_of_guesses = False\n",
    "while guess != secret_word and not(out_of_guesses):\n",
    "    if guess_count< guess_limit:\n",
    "        guess = input(\"enter my grilfriend name:\")\n",
    "        guess_count +=1\n",
    "    else:\n",
    "        out_of_guesses = True\n",
    "        \n",
    "if out_of_guesses:\n",
    "    print(\"out of guesses. You Lose!\")\n",
    "else:\n",
    "    print(\"kaise kagi mara majak\")\n",
    "    "
   ]
  },
  {
   "cell_type": "code",
   "execution_count": 1,
   "id": "f5c36cd8",
   "metadata": {},
   "outputs": [
    {
     "name": "stdout",
     "output_type": "stream",
     "text": [
      "your guess count: 0. Enter my grilfriend name:j\n",
      "your guess count: 1. Enter my grilfriend name:k\n",
      "your guess count: 2. Enter my grilfriend name:g\n",
      "your guess count: 3. Enter my grilfriend name:h\n",
      "your guess count: 4. Enter my grilfriend name:d\n",
      "out of guesses. You Lose!\n"
     ]
    }
   ],
   "source": [
    "secret_word = \"puja\"\n",
    "guess =\"\"\n",
    "\n",
    "guess_count = 0\n",
    "guess_limit = 5\n",
    "out_of_guesses = False\n",
    "while guess != secret_word and not(out_of_guesses):\n",
    "    if guess_count< guess_limit:\n",
    "        guess = input(\"your guess count: \" + str(guess_count) + \". Enter my grilfriend name:\")\n",
    "        guess_count +=1\n",
    "    else:\n",
    "        out_of_guesses = True\n",
    "        \n",
    "if out_of_guesses:\n",
    "    print(\"out of guesses. You Lose!\")\n",
    "else:\n",
    "    print(\"kaise kagi mara majak\")\n",
    "    "
   ]
  },
  {
   "cell_type": "code",
   "execution_count": null,
   "id": "69818c0c",
   "metadata": {},
   "outputs": [],
   "source": []
  }
 ],
 "metadata": {
  "kernelspec": {
   "display_name": "Python 3 (ipykernel)",
   "language": "python",
   "name": "python3"
  },
  "language_info": {
   "codemirror_mode": {
    "name": "ipython",
    "version": 3
   },
   "file_extension": ".py",
   "mimetype": "text/x-python",
   "name": "python",
   "nbconvert_exporter": "python",
   "pygments_lexer": "ipython3",
   "version": "3.9.7"
  }
 },
 "nbformat": 4,
 "nbformat_minor": 5
}
