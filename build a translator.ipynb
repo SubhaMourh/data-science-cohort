{
 "cells": [
  {
   "cell_type": "code",
   "execution_count": 4,
   "id": "8e2542e4",
   "metadata": {},
   "outputs": [
    {
     "name": "stdout",
     "output_type": "stream",
     "text": [
      "enter a phrase:dahuuuhnkxdionkszehniksxuyoiea\n",
      "dghggghnkxdggnkszghngksxgygggg\n"
     ]
    }
   ],
   "source": [
    "def translater(phrase):\n",
    "    translation = \"\"\n",
    "    for letter in phrase:\n",
    "        if letter in \"AEIOUaeiou\":\n",
    "            translation = translation +\"g\"\n",
    "        else:\n",
    "            translation = translation + letter\n",
    "    return translation\n",
    "\n",
    "print(translater(input(\"enter a phrase:\")))"
   ]
  },
  {
   "cell_type": "code",
   "execution_count": 5,
   "id": "975382dc",
   "metadata": {},
   "outputs": [
    {
     "name": "stdout",
     "output_type": "stream",
     "text": [
      "enter a phrase:AEIOU\n",
      "ggggg\n"
     ]
    }
   ],
   "source": [
    "def translater(phrase):\n",
    "    translation = \"\"\n",
    "    for letter in phrase:\n",
    "        if letter in \"AEIOUaeiou\":\n",
    "            translation = translation +\"g\"\n",
    "        else:\n",
    "            translation = translation + letter\n",
    "    return translation\n",
    "\n",
    "print(translater(input(\"enter a phrase:\")))"
   ]
  },
  {
   "cell_type": "code",
   "execution_count": 6,
   "id": "92f3af17",
   "metadata": {},
   "outputs": [
    {
     "name": "stdout",
     "output_type": "stream",
     "text": [
      "enter a phrase:AEIOU\n",
      "GGGGG\n"
     ]
    }
   ],
   "source": [
    "def translater(phrase):\n",
    "    translation = \"\"\n",
    "    for letter in phrase:\n",
    "        if letter in \"AEIOUaeiou\":\n",
    "            if letter.isupper():\n",
    "                 translation = translation +\"G\"\n",
    "            else:\n",
    "                 translation = translation +\"g\"    \n",
    "    \n",
    "        else:\n",
    "            translation = translation + letter\n",
    "    return translation\n",
    "\n",
    "print(translater(input(\"enter a phrase:\")))"
   ]
  },
  {
   "cell_type": "code",
   "execution_count": 8,
   "id": "e41c60a9",
   "metadata": {},
   "outputs": [
    {
     "name": "stdout",
     "output_type": "stream",
     "text": [
      "enter a phrase:aeiou\n",
      "ggggg\n"
     ]
    }
   ],
   "source": [
    "def translater(phrase):\n",
    "    translation = \"\"\n",
    "    for letter in phrase:\n",
    "        if letter in \"AEIOUaeiou\":\n",
    "            if letter.isupper():\n",
    "                 translation = translation +\"G\"\n",
    "            else:\n",
    "                 translation = translation +\"g\"    \n",
    "    \n",
    "        else:\n",
    "            translation = translation + letter\n",
    "    return translation\n",
    "\n",
    "print(translater(input(\"enter a phrase:\")))"
   ]
  },
  {
   "cell_type": "code",
   "execution_count": null,
   "id": "51c695c4",
   "metadata": {},
   "outputs": [],
   "source": []
  }
 ],
 "metadata": {
  "kernelspec": {
   "display_name": "Python 3 (ipykernel)",
   "language": "python",
   "name": "python3"
  },
  "language_info": {
   "codemirror_mode": {
    "name": "ipython",
    "version": 3
   },
   "file_extension": ".py",
   "mimetype": "text/x-python",
   "name": "python",
   "nbconvert_exporter": "python",
   "pygments_lexer": "ipython3",
   "version": "3.9.7"
  }
 },
 "nbformat": 4,
 "nbformat_minor": 5
}
